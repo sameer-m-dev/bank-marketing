{
  "nbformat": 4,
  "nbformat_minor": 0,
  "metadata": {
    "colab": {
      "name": "Bank Marketing.ipynb",
      "version": "0.3.2",
      "provenance": [],
      "collapsed_sections": []
    },
    "kernelspec": {
      "display_name": "Python 2",
      "language": "python",
      "name": "python2"
    }
  },
  "cells": [
    {
      "metadata": {
        "id": "30K94h4fhmmv",
        "colab_type": "text"
      },
      "cell_type": "markdown",
      "source": [
        "## Problem Statement\n",
        "The Portuguese Bank had run a telemarketing campaign in the past, making sales calls for a term-deposit product. Whether a prospect had bought the product or not is mentioned in the column named 'response'.\n",
        "\n",
        "The marketing team wants to launch another campaign, and they want to learn from the past one. You, as an analyst, decide to build a supervised model in R(Python in this case) and achieve the following goals:\n",
        "\n",
        "Reduce the marketing cost by X% and acquire Y% of the prospects (compared to random calling), where X and Y are to be maximized\n",
        "Present the financial benefit of this project to the marketing team"
      ]
    },
    {
      "metadata": {
        "id": "bB2_EHY5hmmy",
        "colab_type": "code",
        "colab": {}
      },
      "cell_type": "code",
      "source": [
        "import pandas as pd\n",
        "from sklearn.feature_extraction import DictVectorizer\n",
        "import matplotlib.pyplot as plt\n",
        "import seaborn as sns\n",
        "%matplotlib inline\n",
        "from pandas.plotting import scatter_matrix"
      ],
      "execution_count": 0,
      "outputs": []
    },
    {
      "metadata": {
        "id": "v06f3nzrhmm3",
        "colab_type": "code",
        "colab": {}
      },
      "cell_type": "code",
      "source": [
        "data = pd.read_csv(\"bank-additional-full.csv\",sep=\";\")"
      ],
      "execution_count": 0,
      "outputs": []
    },
    {
      "metadata": {
        "id": "ZAyYpXcvhmm7",
        "colab_type": "code",
        "outputId": "333c9001-a8d7-47b9-a828-3ad74beb159a",
        "colab": {
          "base_uri": "https://localhost:8080/",
          "height": 253
        }
      },
      "cell_type": "code",
      "source": [
        "data.head()"
      ],
      "execution_count": 159,
      "outputs": [
        {
          "output_type": "execute_result",
          "data": {
            "text/html": [
              "<div>\n",
              "<style scoped>\n",
              "    .dataframe tbody tr th:only-of-type {\n",
              "        vertical-align: middle;\n",
              "    }\n",
              "\n",
              "    .dataframe tbody tr th {\n",
              "        vertical-align: top;\n",
              "    }\n",
              "\n",
              "    .dataframe thead th {\n",
              "        text-align: right;\n",
              "    }\n",
              "</style>\n",
              "<table border=\"1\" class=\"dataframe\">\n",
              "  <thead>\n",
              "    <tr style=\"text-align: right;\">\n",
              "      <th></th>\n",
              "      <th>age</th>\n",
              "      <th>job</th>\n",
              "      <th>marital</th>\n",
              "      <th>education</th>\n",
              "      <th>default</th>\n",
              "      <th>housing</th>\n",
              "      <th>loan</th>\n",
              "      <th>contact</th>\n",
              "      <th>month</th>\n",
              "      <th>day_of_week</th>\n",
              "      <th>...</th>\n",
              "      <th>campaign</th>\n",
              "      <th>pdays</th>\n",
              "      <th>previous</th>\n",
              "      <th>poutcome</th>\n",
              "      <th>emp.var.rate</th>\n",
              "      <th>cons.price.idx</th>\n",
              "      <th>cons.conf.idx</th>\n",
              "      <th>euribor3m</th>\n",
              "      <th>nr.employed</th>\n",
              "      <th>y</th>\n",
              "    </tr>\n",
              "  </thead>\n",
              "  <tbody>\n",
              "    <tr>\n",
              "      <th>0</th>\n",
              "      <td>56</td>\n",
              "      <td>housemaid</td>\n",
              "      <td>married</td>\n",
              "      <td>basic.4y</td>\n",
              "      <td>no</td>\n",
              "      <td>no</td>\n",
              "      <td>no</td>\n",
              "      <td>telephone</td>\n",
              "      <td>may</td>\n",
              "      <td>mon</td>\n",
              "      <td>...</td>\n",
              "      <td>1</td>\n",
              "      <td>999</td>\n",
              "      <td>0</td>\n",
              "      <td>nonexistent</td>\n",
              "      <td>1.1</td>\n",
              "      <td>93.994</td>\n",
              "      <td>-36.4</td>\n",
              "      <td>4.857</td>\n",
              "      <td>5191.0</td>\n",
              "      <td>no</td>\n",
              "    </tr>\n",
              "    <tr>\n",
              "      <th>1</th>\n",
              "      <td>57</td>\n",
              "      <td>services</td>\n",
              "      <td>married</td>\n",
              "      <td>high.school</td>\n",
              "      <td>unknown</td>\n",
              "      <td>no</td>\n",
              "      <td>no</td>\n",
              "      <td>telephone</td>\n",
              "      <td>may</td>\n",
              "      <td>mon</td>\n",
              "      <td>...</td>\n",
              "      <td>1</td>\n",
              "      <td>999</td>\n",
              "      <td>0</td>\n",
              "      <td>nonexistent</td>\n",
              "      <td>1.1</td>\n",
              "      <td>93.994</td>\n",
              "      <td>-36.4</td>\n",
              "      <td>4.857</td>\n",
              "      <td>5191.0</td>\n",
              "      <td>no</td>\n",
              "    </tr>\n",
              "    <tr>\n",
              "      <th>2</th>\n",
              "      <td>37</td>\n",
              "      <td>services</td>\n",
              "      <td>married</td>\n",
              "      <td>high.school</td>\n",
              "      <td>no</td>\n",
              "      <td>yes</td>\n",
              "      <td>no</td>\n",
              "      <td>telephone</td>\n",
              "      <td>may</td>\n",
              "      <td>mon</td>\n",
              "      <td>...</td>\n",
              "      <td>1</td>\n",
              "      <td>999</td>\n",
              "      <td>0</td>\n",
              "      <td>nonexistent</td>\n",
              "      <td>1.1</td>\n",
              "      <td>93.994</td>\n",
              "      <td>-36.4</td>\n",
              "      <td>4.857</td>\n",
              "      <td>5191.0</td>\n",
              "      <td>no</td>\n",
              "    </tr>\n",
              "    <tr>\n",
              "      <th>3</th>\n",
              "      <td>40</td>\n",
              "      <td>admin.</td>\n",
              "      <td>married</td>\n",
              "      <td>basic.6y</td>\n",
              "      <td>no</td>\n",
              "      <td>no</td>\n",
              "      <td>no</td>\n",
              "      <td>telephone</td>\n",
              "      <td>may</td>\n",
              "      <td>mon</td>\n",
              "      <td>...</td>\n",
              "      <td>1</td>\n",
              "      <td>999</td>\n",
              "      <td>0</td>\n",
              "      <td>nonexistent</td>\n",
              "      <td>1.1</td>\n",
              "      <td>93.994</td>\n",
              "      <td>-36.4</td>\n",
              "      <td>4.857</td>\n",
              "      <td>5191.0</td>\n",
              "      <td>no</td>\n",
              "    </tr>\n",
              "    <tr>\n",
              "      <th>4</th>\n",
              "      <td>56</td>\n",
              "      <td>services</td>\n",
              "      <td>married</td>\n",
              "      <td>high.school</td>\n",
              "      <td>no</td>\n",
              "      <td>no</td>\n",
              "      <td>yes</td>\n",
              "      <td>telephone</td>\n",
              "      <td>may</td>\n",
              "      <td>mon</td>\n",
              "      <td>...</td>\n",
              "      <td>1</td>\n",
              "      <td>999</td>\n",
              "      <td>0</td>\n",
              "      <td>nonexistent</td>\n",
              "      <td>1.1</td>\n",
              "      <td>93.994</td>\n",
              "      <td>-36.4</td>\n",
              "      <td>4.857</td>\n",
              "      <td>5191.0</td>\n",
              "      <td>no</td>\n",
              "    </tr>\n",
              "  </tbody>\n",
              "</table>\n",
              "<p>5 rows × 21 columns</p>\n",
              "</div>"
            ],
            "text/plain": [
              "   age        job  marital    education  default housing loan    contact  \\\n",
              "0   56  housemaid  married     basic.4y       no      no   no  telephone   \n",
              "1   57   services  married  high.school  unknown      no   no  telephone   \n",
              "2   37   services  married  high.school       no     yes   no  telephone   \n",
              "3   40     admin.  married     basic.6y       no      no   no  telephone   \n",
              "4   56   services  married  high.school       no      no  yes  telephone   \n",
              "\n",
              "  month day_of_week ...  campaign  pdays  previous     poutcome emp.var.rate  \\\n",
              "0   may         mon ...         1    999         0  nonexistent          1.1   \n",
              "1   may         mon ...         1    999         0  nonexistent          1.1   \n",
              "2   may         mon ...         1    999         0  nonexistent          1.1   \n",
              "3   may         mon ...         1    999         0  nonexistent          1.1   \n",
              "4   may         mon ...         1    999         0  nonexistent          1.1   \n",
              "\n",
              "   cons.price.idx  cons.conf.idx  euribor3m  nr.employed   y  \n",
              "0          93.994          -36.4      4.857       5191.0  no  \n",
              "1          93.994          -36.4      4.857       5191.0  no  \n",
              "2          93.994          -36.4      4.857       5191.0  no  \n",
              "3          93.994          -36.4      4.857       5191.0  no  \n",
              "4          93.994          -36.4      4.857       5191.0  no  \n",
              "\n",
              "[5 rows x 21 columns]"
            ]
          },
          "metadata": {
            "tags": []
          },
          "execution_count": 159
        }
      ]
    },
    {
      "metadata": {
        "id": "ASEY-qLthmnL",
        "colab_type": "text"
      },
      "cell_type": "markdown",
      "source": [
        "##### Convert dataframe to list of dicts"
      ]
    },
    {
      "metadata": {
        "id": "qDkDMHY1hmnM",
        "colab_type": "code",
        "colab": {}
      },
      "cell_type": "code",
      "source": [
        "data_dict = data.T.to_dict().values()"
      ],
      "execution_count": 0,
      "outputs": []
    },
    {
      "metadata": {
        "id": "LsXBvv5RhmnQ",
        "colab_type": "text"
      },
      "cell_type": "markdown",
      "source": [
        "## Vectorise features such that text based classifications are transformed into one hot encoded features"
      ]
    },
    {
      "metadata": {
        "id": "b4GGjr-DhmnR",
        "colab_type": "code",
        "colab": {}
      },
      "cell_type": "code",
      "source": [
        "vec = DictVectorizer()\n",
        "signal_array = vec.fit_transform(data_dict).toarray()\n",
        "feature_names = vec.get_feature_names()"
      ],
      "execution_count": 0,
      "outputs": []
    },
    {
      "metadata": {
        "id": "587QVGBChmnU",
        "colab_type": "code",
        "outputId": "7d18776e-a480-4de2-d971-3f7efd273c31",
        "colab": {
          "base_uri": "https://localhost:8080/",
          "height": 253
        }
      },
      "cell_type": "code",
      "source": [
        "df = pd.DataFrame(signal_array,columns=feature_names)\n",
        "df.head()"
      ],
      "execution_count": 162,
      "outputs": [
        {
          "output_type": "execute_result",
          "data": {
            "text/html": [
              "<div>\n",
              "<style scoped>\n",
              "    .dataframe tbody tr th:only-of-type {\n",
              "        vertical-align: middle;\n",
              "    }\n",
              "\n",
              "    .dataframe tbody tr th {\n",
              "        vertical-align: top;\n",
              "    }\n",
              "\n",
              "    .dataframe thead th {\n",
              "        text-align: right;\n",
              "    }\n",
              "</style>\n",
              "<table border=\"1\" class=\"dataframe\">\n",
              "  <thead>\n",
              "    <tr style=\"text-align: right;\">\n",
              "      <th></th>\n",
              "      <th>age</th>\n",
              "      <th>campaign</th>\n",
              "      <th>cons.conf.idx</th>\n",
              "      <th>cons.price.idx</th>\n",
              "      <th>contact=cellular</th>\n",
              "      <th>contact=telephone</th>\n",
              "      <th>day_of_week=fri</th>\n",
              "      <th>day_of_week=mon</th>\n",
              "      <th>day_of_week=thu</th>\n",
              "      <th>day_of_week=tue</th>\n",
              "      <th>...</th>\n",
              "      <th>month=oct</th>\n",
              "      <th>month=sep</th>\n",
              "      <th>nr.employed</th>\n",
              "      <th>pdays</th>\n",
              "      <th>poutcome=failure</th>\n",
              "      <th>poutcome=nonexistent</th>\n",
              "      <th>poutcome=success</th>\n",
              "      <th>previous</th>\n",
              "      <th>y=no</th>\n",
              "      <th>y=yes</th>\n",
              "    </tr>\n",
              "  </thead>\n",
              "  <tbody>\n",
              "    <tr>\n",
              "      <th>0</th>\n",
              "      <td>56.0</td>\n",
              "      <td>1.0</td>\n",
              "      <td>-36.4</td>\n",
              "      <td>93.994</td>\n",
              "      <td>0.0</td>\n",
              "      <td>1.0</td>\n",
              "      <td>0.0</td>\n",
              "      <td>1.0</td>\n",
              "      <td>0.0</td>\n",
              "      <td>0.0</td>\n",
              "      <td>...</td>\n",
              "      <td>0.0</td>\n",
              "      <td>0.0</td>\n",
              "      <td>5191.0</td>\n",
              "      <td>999.0</td>\n",
              "      <td>0.0</td>\n",
              "      <td>1.0</td>\n",
              "      <td>0.0</td>\n",
              "      <td>0.0</td>\n",
              "      <td>1.0</td>\n",
              "      <td>0.0</td>\n",
              "    </tr>\n",
              "    <tr>\n",
              "      <th>1</th>\n",
              "      <td>57.0</td>\n",
              "      <td>1.0</td>\n",
              "      <td>-36.4</td>\n",
              "      <td>93.994</td>\n",
              "      <td>0.0</td>\n",
              "      <td>1.0</td>\n",
              "      <td>0.0</td>\n",
              "      <td>1.0</td>\n",
              "      <td>0.0</td>\n",
              "      <td>0.0</td>\n",
              "      <td>...</td>\n",
              "      <td>0.0</td>\n",
              "      <td>0.0</td>\n",
              "      <td>5191.0</td>\n",
              "      <td>999.0</td>\n",
              "      <td>0.0</td>\n",
              "      <td>1.0</td>\n",
              "      <td>0.0</td>\n",
              "      <td>0.0</td>\n",
              "      <td>1.0</td>\n",
              "      <td>0.0</td>\n",
              "    </tr>\n",
              "    <tr>\n",
              "      <th>2</th>\n",
              "      <td>37.0</td>\n",
              "      <td>1.0</td>\n",
              "      <td>-36.4</td>\n",
              "      <td>93.994</td>\n",
              "      <td>0.0</td>\n",
              "      <td>1.0</td>\n",
              "      <td>0.0</td>\n",
              "      <td>1.0</td>\n",
              "      <td>0.0</td>\n",
              "      <td>0.0</td>\n",
              "      <td>...</td>\n",
              "      <td>0.0</td>\n",
              "      <td>0.0</td>\n",
              "      <td>5191.0</td>\n",
              "      <td>999.0</td>\n",
              "      <td>0.0</td>\n",
              "      <td>1.0</td>\n",
              "      <td>0.0</td>\n",
              "      <td>0.0</td>\n",
              "      <td>1.0</td>\n",
              "      <td>0.0</td>\n",
              "    </tr>\n",
              "    <tr>\n",
              "      <th>3</th>\n",
              "      <td>40.0</td>\n",
              "      <td>1.0</td>\n",
              "      <td>-36.4</td>\n",
              "      <td>93.994</td>\n",
              "      <td>0.0</td>\n",
              "      <td>1.0</td>\n",
              "      <td>0.0</td>\n",
              "      <td>1.0</td>\n",
              "      <td>0.0</td>\n",
              "      <td>0.0</td>\n",
              "      <td>...</td>\n",
              "      <td>0.0</td>\n",
              "      <td>0.0</td>\n",
              "      <td>5191.0</td>\n",
              "      <td>999.0</td>\n",
              "      <td>0.0</td>\n",
              "      <td>1.0</td>\n",
              "      <td>0.0</td>\n",
              "      <td>0.0</td>\n",
              "      <td>1.0</td>\n",
              "      <td>0.0</td>\n",
              "    </tr>\n",
              "    <tr>\n",
              "      <th>4</th>\n",
              "      <td>56.0</td>\n",
              "      <td>1.0</td>\n",
              "      <td>-36.4</td>\n",
              "      <td>93.994</td>\n",
              "      <td>0.0</td>\n",
              "      <td>1.0</td>\n",
              "      <td>0.0</td>\n",
              "      <td>1.0</td>\n",
              "      <td>0.0</td>\n",
              "      <td>0.0</td>\n",
              "      <td>...</td>\n",
              "      <td>0.0</td>\n",
              "      <td>0.0</td>\n",
              "      <td>5191.0</td>\n",
              "      <td>999.0</td>\n",
              "      <td>0.0</td>\n",
              "      <td>1.0</td>\n",
              "      <td>0.0</td>\n",
              "      <td>0.0</td>\n",
              "      <td>1.0</td>\n",
              "      <td>0.0</td>\n",
              "    </tr>\n",
              "  </tbody>\n",
              "</table>\n",
              "<p>5 rows × 65 columns</p>\n",
              "</div>"
            ],
            "text/plain": [
              "    age  campaign  cons.conf.idx  cons.price.idx  contact=cellular  \\\n",
              "0  56.0       1.0          -36.4          93.994               0.0   \n",
              "1  57.0       1.0          -36.4          93.994               0.0   \n",
              "2  37.0       1.0          -36.4          93.994               0.0   \n",
              "3  40.0       1.0          -36.4          93.994               0.0   \n",
              "4  56.0       1.0          -36.4          93.994               0.0   \n",
              "\n",
              "   contact=telephone  day_of_week=fri  day_of_week=mon  day_of_week=thu  \\\n",
              "0                1.0              0.0              1.0              0.0   \n",
              "1                1.0              0.0              1.0              0.0   \n",
              "2                1.0              0.0              1.0              0.0   \n",
              "3                1.0              0.0              1.0              0.0   \n",
              "4                1.0              0.0              1.0              0.0   \n",
              "\n",
              "   day_of_week=tue  ...    month=oct  month=sep  nr.employed  pdays  \\\n",
              "0              0.0  ...          0.0        0.0       5191.0  999.0   \n",
              "1              0.0  ...          0.0        0.0       5191.0  999.0   \n",
              "2              0.0  ...          0.0        0.0       5191.0  999.0   \n",
              "3              0.0  ...          0.0        0.0       5191.0  999.0   \n",
              "4              0.0  ...          0.0        0.0       5191.0  999.0   \n",
              "\n",
              "   poutcome=failure  poutcome=nonexistent  poutcome=success  previous  y=no  \\\n",
              "0               0.0                   1.0               0.0       0.0   1.0   \n",
              "1               0.0                   1.0               0.0       0.0   1.0   \n",
              "2               0.0                   1.0               0.0       0.0   1.0   \n",
              "3               0.0                   1.0               0.0       0.0   1.0   \n",
              "4               0.0                   1.0               0.0       0.0   1.0   \n",
              "\n",
              "   y=yes  \n",
              "0    0.0  \n",
              "1    0.0  \n",
              "2    0.0  \n",
              "3    0.0  \n",
              "4    0.0  \n",
              "\n",
              "[5 rows x 65 columns]"
            ]
          },
          "metadata": {
            "tags": []
          },
          "execution_count": 162
        }
      ]
    },
    {
      "metadata": {
        "id": "T2qaoQ3ThmnZ",
        "colab_type": "code",
        "outputId": "14777d02-38b5-4e59-aa7e-be383abf12d8",
        "colab": {
          "base_uri": "https://localhost:8080/",
          "height": 1088
        }
      },
      "cell_type": "code",
      "source": [
        "import numpy as np\n",
        "import matplotlib.pyplot as plt\n",
        "\n",
        "from sklearn.datasets import make_classification\n",
        "from sklearn.ensemble import RandomForestClassifier\n",
        "\n",
        "X = signal_array[:,:-2]\n",
        "X = np.hstack((X[:,:14],X[:,15:]))\n",
        "y = signal_array[:,-1]\n",
        "\n",
        "# Build a forest and compute the feature importances\n",
        "forest = RandomForestClassifier(n_estimators=300,\n",
        "                              random_state=0)\n",
        "\n",
        "forest.fit(X, y)\n",
        "importances = forest.feature_importances_\n",
        "std = np.std([tree.feature_importances_ for tree in forest.estimators_],\n",
        "             axis=0)\n",
        "indices = np.argsort(importances)[::-1]\n",
        "\n",
        "# Printing the feature ranking\n",
        "print(\"Feature ranking:\")\n",
        "\n",
        "for f in range(X.shape[1]):\n",
        "    print(\"%d. feature %s (%f)\" % (f + 1, feature_names[indices[f]], importances[indices[f]]))"
      ],
      "execution_count": 163,
      "outputs": [
        {
          "output_type": "stream",
          "text": [
            "Feature ranking:\n",
            "1. feature age (0.164168)\n",
            "2. feature emp.var.rate (0.117612)\n",
            "3. feature campaign (0.083686)\n",
            "4. feature month=sep (0.049868)\n",
            "5. feature nr.employed (0.032805)\n",
            "6. feature cons.conf.idx (0.027001)\n",
            "7. feature poutcome=nonexistent (0.023482)\n",
            "8. feature cons.price.idx (0.023255)\n",
            "9. feature education=unknown (0.022363)\n",
            "10. feature euribor3m (0.021197)\n",
            "11. feature housing=unknown (0.021177)\n",
            "12. feature housing=yes (0.017684)\n",
            "13. feature marital=divorced (0.016696)\n",
            "14. feature education=professional.course (0.016322)\n",
            "15. feature education=basic.9y (0.016236)\n",
            "16. feature marital=married (0.014813)\n",
            "17. feature poutcome=success (0.014529)\n",
            "18. feature day_of_week=mon (0.014527)\n",
            "19. feature day_of_week=wed (0.014365)\n",
            "20. feature day_of_week=thu (0.014228)\n",
            "21. feature day_of_week=tue (0.014090)\n",
            "22. feature job=student (0.014027)\n",
            "23. feature job=unknown (0.014001)\n",
            "24. feature loan=unknown (0.013808)\n",
            "25. feature day_of_week=fri (0.013773)\n",
            "26. feature education=illiterate (0.011894)\n",
            "27. feature job=admin. (0.011787)\n",
            "28. feature education=basic.6y (0.011320)\n",
            "29. feature loan=yes (0.010415)\n",
            "30. feature job=housemaid (0.009389)\n",
            "31. feature job=self-employed (0.009080)\n",
            "32. feature contact=telephone (0.008412)\n",
            "33. feature duration (0.008202)\n",
            "34. feature contact=cellular (0.007677)\n",
            "35. feature poutcome=failure (0.007631)\n",
            "36. feature pdays (0.007590)\n",
            "37. feature default=no (0.007226)\n",
            "38. feature default=unknown (0.007206)\n",
            "39. feature job=management (0.007059)\n",
            "40. feature education=basic.4y (0.006805)\n",
            "41. feature education=university.degree (0.006804)\n",
            "42. feature job=retired (0.006150)\n",
            "43. feature job=blue-collar (0.005749)\n",
            "44. feature month=nov (0.005480)\n",
            "45. feature job=services (0.005374)\n",
            "46. feature job=technician (0.005002)\n",
            "47. feature month=mar (0.004555)\n",
            "48. feature job=entrepreneur (0.004405)\n",
            "49. feature month=jun (0.004114)\n",
            "50. feature marital=unknown (0.003343)\n",
            "51. feature month=jul (0.002969)\n",
            "52. feature month=dec (0.002516)\n",
            "53. feature housing=no (0.002479)\n",
            "54. feature month=apr (0.002475)\n",
            "55. feature loan=no (0.002470)\n",
            "56. feature month=oct (0.002378)\n",
            "57. feature job=unemployed (0.002239)\n",
            "58. feature month=may (0.002135)\n",
            "59. feature marital=single (0.000836)\n",
            "60. feature month=aug (0.000822)\n",
            "61. feature education=high.school (0.000295)\n",
            "62. feature default=yes (0.000001)\n"
          ],
          "name": "stdout"
        }
      ]
    },
    {
      "metadata": {
        "id": "KT209p2Imzmq",
        "colab_type": "text"
      },
      "cell_type": "markdown",
      "source": [
        "##Plotting the Regression plots of top 10 features\n"
      ]
    },
    {
      "metadata": {
        "id": "YMVMdNcWhmnc",
        "colab_type": "code",
        "outputId": "0f3b9268-58b7-47a0-b771-7cf25cb143cc",
        "colab": {
          "base_uri": "https://localhost:8080/",
          "height": 279
        }
      },
      "cell_type": "code",
      "source": [
        "ax = sns.regplot(x=\"age\", y=\"y=yes\", order=2, data=df, truncate=True)"
      ],
      "execution_count": 164,
      "outputs": [
        {
          "output_type": "display_data",
          "data": {
            "image/png": "[encoded data removed]",
            "text/plain": [
              "<Figure size 432x288 with 1 Axes>"
            ]
          },
          "metadata": {
            "tags": []
          }
        }
      ]
    },
    {
      "metadata": {
        "id": "zNGziEvKsF3q",
        "colab_type": "code",
        "outputId": "e0113122-d70b-4564-f3b6-e5f87130b13a",
        "colab": {
          "base_uri": "https://localhost:8080/",
          "height": 296
        }
      },
      "cell_type": "code",
      "source": [
        "sns.violinplot(x=data.y, y=df.age)\n"
      ],
      "execution_count": 165,
      "outputs": [
        {
          "output_type": "execute_result",
          "data": {
            "text/plain": [
              "<matplotlib.axes._subplots.AxesSubplot at 0x7f5fed3e6dd0>"
            ]
          },
          "metadata": {
            "tags": []
          },
          "execution_count": 165
        },
        {
          "output_type": "display_data",
          "data": {
            "image/png": "[encoded data removed]",
            "text/plain": [
              "<Figure size 432x288 with 1 Axes>"
            ]
          },
          "metadata": {
            "tags": []
          }
        }
      ]
    },
    {
      "metadata": {
        "id": "fqV6qG-dsUiL",
        "colab_type": "text"
      },
      "cell_type": "markdown",
      "source": [
        "Without getting to an objective measure here, it as at least visually obvious that the yesses (1s) have a thicker tail out past the retirement ages (though we can't assume yet that all these people are \"retired\" per-se).\n",
        "\n"
      ]
    },
    {
      "metadata": {
        "id": "7004Y8P3rvXI",
        "colab_type": "code",
        "outputId": "87ac7b5c-0a3e-466c-bdf0-8999decde837",
        "colab": {
          "base_uri": "https://localhost:8080/",
          "height": 296
        }
      },
      "cell_type": "code",
      "source": [
        "sns.distplot(df.age, kde=False)"
      ],
      "execution_count": 166,
      "outputs": [
        {
          "output_type": "execute_result",
          "data": {
            "text/plain": [
              "<matplotlib.axes._subplots.AxesSubplot at 0x7f5fec770790>"
            ]
          },
          "metadata": {
            "tags": []
          },
          "execution_count": 166
        },
        {
          "output_type": "display_data",
          "data": {
            "image/png": "[encoded data removed]",
            "text/plain": [
              "<Figure size 432x288 with 1 Axes>"
            ]
          },
          "metadata": {
            "tags": []
          }
        }
      ]
    },
    {
      "metadata": {
        "id": "Fl0jEC_CsaOr",
        "colab_type": "text"
      },
      "cell_type": "markdown",
      "source": [
        "When we look at the distribution of ages, we see that the \"violin\" plots from before can be a bit misleading.\n",
        "\n",
        "While they seem to tell us that there is an overall trend with age,the age distribution above below tells us that there are very few participants over age 60. So while it may be accurate to say that, within those over 60, there is a trend to say yes- there is likely not a significant trend in this data for those who say yes to be over 60."
      ]
    },
    {
      "metadata": {
        "id": "euqxESouhmng",
        "colab_type": "code",
        "outputId": "df1a2d36-31cc-467b-8f4a-0d0c6a8ade14",
        "colab": {
          "base_uri": "https://localhost:8080/",
          "height": 279
        }
      },
      "cell_type": "code",
      "source": [
        "ax = sns.regplot(x=\"campaign\", y=\"y=yes\", order=1, data=df, truncate=True)\n",
        "# From this plot we can see that campaigns after 12-13 are useless"
      ],
      "execution_count": 167,
      "outputs": [
        {
          "output_type": "display_data",
          "data": {
            "image/png": "[encoded data removed]",
            "text/plain": [
              "<Figure size 432x288 with 1 Axes>"
            ]
          },
          "metadata": {
            "tags": []
          }
        }
      ]
    },
    {
      "metadata": {
        "id": "fgMMohVghmnk",
        "colab_type": "text"
      },
      "cell_type": "markdown",
      "source": [
        "##### Shows that any campaign after 13 are useless. \n"
      ]
    },
    {
      "metadata": {
        "id": "K28KhSmZkk68",
        "colab_type": "code",
        "outputId": "fe058350-6496-4ae5-fd41-e5b445f23fc8",
        "colab": {
          "base_uri": "https://localhost:8080/",
          "height": 34
        }
      },
      "cell_type": "code",
      "source": [
        "df.loc[(df['campaign'] >13) & (df['y=yes']==1)].shape\n",
        "# Remove the .shape parameter to view the data"
      ],
      "execution_count": 168,
      "outputs": [
        {
          "output_type": "execute_result",
          "data": {
            "text/plain": [
              "(8, 65)"
            ]
          },
          "metadata": {
            "tags": []
          },
          "execution_count": 168
        }
      ]
    },
    {
      "metadata": {
        "id": "EmHpIxuEkxQ1",
        "colab_type": "code",
        "outputId": "7e495bc2-7f2c-4f86-d499-9dd5a572eee5",
        "colab": {
          "base_uri": "https://localhost:8080/",
          "height": 34
        }
      },
      "cell_type": "code",
      "source": [
        "df.loc[(df['campaign'] >13) & (df['y=yes']==0)].shape\n",
        "# Remove the .shape parameter to view the data"
      ],
      "execution_count": 169,
      "outputs": [
        {
          "output_type": "execute_result",
          "data": {
            "text/plain": [
              "(467, 65)"
            ]
          },
          "metadata": {
            "tags": []
          },
          "execution_count": 169
        }
      ]
    },
    {
      "metadata": {
        "id": "GxEuaUdfl1Ii",
        "colab_type": "text"
      },
      "cell_type": "markdown",
      "source": [
        "**Since the difference betwen yes and no is huge it is safe to asume that approaching a client more than 13 times is not of much use**"
      ]
    },
    {
      "metadata": {
        "id": "CC-0i78Fhmnr",
        "colab_type": "code",
        "outputId": "a3ed6121-6284-40ac-b7b4-01842bdf4bb6",
        "colab": {
          "base_uri": "https://localhost:8080/",
          "height": 279
        }
      },
      "cell_type": "code",
      "source": [
        "\n",
        "ax = sns.regplot(x=\"emp.var.rate\", y=\"y=yes\", order=1, data=df, truncate=True)\n"
      ],
      "execution_count": 170,
      "outputs": [
        {
          "output_type": "display_data",
          "data": {
            "image/png": "[encoded data removed]",
            "text/plain": [
              "<Figure size 432x288 with 1 Axes>"
            ]
          },
          "metadata": {
            "tags": []
          }
        }
      ]
    },
    {
      "metadata": {
        "id": "wbuIG9UQhmnv",
        "colab_type": "code",
        "outputId": "8535ef87-cebe-4539-a227-f20d4856c9d8",
        "colab": {
          "base_uri": "https://localhost:8080/",
          "height": 279
        }
      },
      "cell_type": "code",
      "source": [
        "\n",
        "ax = sns.regplot(x=\"nr.employed\", y=\"y=yes\", order=1, data=df, truncate=True)\n"
      ],
      "execution_count": 171,
      "outputs": [
        {
          "output_type": "display_data",
          "data": {
            "image/png": "[encoded data removed]",
            "text/plain": [
              "<Figure size 432x288 with 1 Axes>"
            ]
          },
          "metadata": {
            "tags": []
          }
        }
      ]
    },
    {
      "metadata": {
        "id": "RIqpVhSUhmn0",
        "colab_type": "code",
        "outputId": "5b543f43-48a2-4032-a0a1-ba1777743f1b",
        "colab": {
          "base_uri": "https://localhost:8080/",
          "height": 279
        }
      },
      "cell_type": "code",
      "source": [
        "ax = sns.regplot(x=\"age\", y=\"y=yes\", order=1, data=df, truncate=True)\n"
      ],
      "execution_count": 172,
      "outputs": [
        {
          "output_type": "display_data",
          "data": {
            "image/png": "[encoded data removed]",
            "text/plain": [
              "<Figure size 432x288 with 1 Axes>"
            ]
          },
          "metadata": {
            "tags": []
          }
        }
      ]
    },
    {
      "metadata": {
        "id": "7VDH0Miwhmn3",
        "colab_type": "code",
        "outputId": "7eaa0724-d2ba-429f-8a48-0f02b4a013fa",
        "colab": {
          "base_uri": "https://localhost:8080/",
          "height": 279
        }
      },
      "cell_type": "code",
      "source": [
        "ax = sns.regplot(x=\"duration\", y=\"y=yes\", order=1, data=df, truncate=True)"
      ],
      "execution_count": 173,
      "outputs": [
        {
          "output_type": "display_data",
          "data": {
            "image/png": "[encoded data removed]",
            "text/plain": [
              "<Figure size 432x288 with 1 Axes>"
            ]
          },
          "metadata": {
            "tags": []
          }
        }
      ]
    },
    {
      "metadata": {
        "id": "TZ-anxQKhmn6",
        "colab_type": "code",
        "outputId": "949973ab-f961-439b-aea9-a253cce9c681",
        "colab": {
          "base_uri": "https://localhost:8080/",
          "height": 279
        }
      },
      "cell_type": "code",
      "source": [
        "\n",
        "ax = sns.regplot(x=\"contact=telephone\", y=\"y=yes\", order=1, data=df, truncate=True)"
      ],
      "execution_count": 174,
      "outputs": [
        {
          "output_type": "display_data",
          "data": {
            "image/png": "[encoded data removed]",
            "text/plain": [
              "<Figure size 432x288 with 1 Axes>"
            ]
          },
          "metadata": {
            "tags": []
          }
        }
      ]
    },
    {
      "metadata": {
        "id": "8gAQnXpHhmn-",
        "colab_type": "code",
        "outputId": "7ef7903d-c6b3-48ce-eb1a-a669bd078b09",
        "colab": {
          "base_uri": "https://localhost:8080/",
          "height": 279
        }
      },
      "cell_type": "code",
      "source": [
        "\n",
        "ax = sns.regplot(x=\"month=oct\", y=\"y=yes\", order=1, data=df, truncate=True)"
      ],
      "execution_count": 175,
      "outputs": [
        {
          "output_type": "display_data",
          "data": {
            "image/png": "[encoded data removed]",
            "text/plain": [
              "<Figure size 432x288 with 1 Axes>"
            ]
          },
          "metadata": {
            "tags": []
          }
        }
      ]
    },
    {
      "metadata": {
        "id": "IXfirhn8hmoB",
        "colab_type": "code",
        "outputId": "b800647c-d54b-4af9-a550-b2591187b0ca",
        "colab": {
          "base_uri": "https://localhost:8080/",
          "height": 279
        }
      },
      "cell_type": "code",
      "source": [
        "\n",
        "ax = sns.regplot(x=\"cons.conf.idx\", y=\"y=yes\", order=1, data=df, truncate=True)"
      ],
      "execution_count": 176,
      "outputs": [
        {
          "output_type": "display_data",
          "data": {
            "image/png": "[encoded data removed]",
            "text/plain": [
              "<Figure size 432x288 with 1 Axes>"
            ]
          },
          "metadata": {
            "tags": []
          }
        }
      ]
    },
    {
      "metadata": {
        "id": "wSQ09DiyhmoE",
        "colab_type": "code",
        "outputId": "3002a128-972f-419d-93eb-cae60605062a",
        "colab": {
          "base_uri": "https://localhost:8080/",
          "height": 279
        }
      },
      "cell_type": "code",
      "source": [
        "\n",
        "ax = sns.regplot(x=\"poutcome=nonexistent\", y=\"y=yes\", order=1, data=df, truncate=True)"
      ],
      "execution_count": 177,
      "outputs": [
        {
          "output_type": "display_data",
          "data": {
            "image/png": "[encoded data removed]",
            "text/plain": [
              "<Figure size 432x288 with 1 Axes>"
            ]
          },
          "metadata": {
            "tags": []
          }
        }
      ]
    },
    {
      "metadata": {
        "id": "-FOJKffThmoW",
        "colab_type": "text"
      },
      "cell_type": "markdown",
      "source": [
        "# Let's optimize using campaign"
      ]
    },
    {
      "metadata": {
        "id": "xt7mOQF6hmoX",
        "colab_type": "code",
        "outputId": "8a137970-e84a-4c86-e82f-8f07c517b712",
        "colab": {
          "base_uri": "https://localhost:8080/",
          "height": 34
        }
      },
      "cell_type": "code",
      "source": [
        "# Total Conversion ratio\n",
        "sum(df['y=yes'])/sum(df['campaign'])"
      ],
      "execution_count": 178,
      "outputs": [
        {
          "output_type": "execute_result",
          "data": {
            "text/plain": [
              "0.043875408967982296"
            ]
          },
          "metadata": {
            "tags": []
          },
          "execution_count": 178
        }
      ]
    },
    {
      "metadata": {
        "colab_type": "code",
        "outputId": "e8a157b6-f090-4e5f-b72d-5547ab129eab",
        "id": "1RfU7Z2Qt3a_",
        "colab": {
          "base_uri": "https://localhost:8080/",
          "height": 442
        }
      },
      "cell_type": "code",
      "source": [
        "# Now let's see efficiancy on every additional call\n",
        "print \"Nth Call \\t Efficiency\"\n",
        "for i in range(1,25):\n",
        "    goo = sum(df.loc[df['campaign']==i]['y=yes']) / float(df.loc[df['campaign'] >= i].shape[0])\n",
        "    print (str((i))+\" \\t\\t \"+str(goo))"
      ],
      "execution_count": 179,
      "outputs": [
        {
          "output_type": "stream",
          "text": [
            "Nth Call \t Efficiency\n",
            "1 \t\t 0.0558415072351\n",
            "2 \t\t 0.0514312409751\n",
            "3 \t\t 0.0442355117139\n",
            "4 \t\t 0.0326129666012\n",
            "5 \t\t 0.024077046549\n",
            "6 \t\t 0.0221565731167\n",
            "7 \t\t 0.0157938487116\n",
            "8 \t\t 0.00956668542487\n",
            "9 \t\t 0.0123456790123\n",
            "10 \t\t 0.0109689213894\n",
            "11 \t\t 0.0138089758343\n",
            "12 \t\t 0.00433526011561\n",
            "13 \t\t 0.00705467372134\n",
            "14 \t\t 0.00210526315789\n",
            "15 \t\t 0.00492610837438\n",
            "16 \t\t 0.0\n",
            "17 \t\t 0.0131578947368\n",
            "18 \t\t 0.0\n",
            "19 \t\t 0.0\n",
            "20 \t\t 0.0\n",
            "21 \t\t 0.0\n",
            "22 \t\t 0.0\n",
            "23 \t\t 0.00862068965517\n",
            "24 \t\t 0.0\n"
          ],
          "name": "stdout"
        }
      ]
    },
    {
      "metadata": {
        "id": "vfcG12-phmof",
        "colab_type": "text"
      },
      "cell_type": "markdown",
      "source": [
        "The acceptable conversion ratio is 2-6% so it is a fair to say any call after the 6th call is not acceptable since it has a conversion ratio of less than 1.6%"
      ]
    },
    {
      "metadata": {
        "id": "TcwTJ9gHhmo1",
        "colab_type": "code",
        "outputId": "229b1ee3-a160-4bb7-dc34-918e6426e5a0",
        "colab": {
          "base_uri": "https://localhost:8080/",
          "height": 34
        }
      },
      "cell_type": "code",
      "source": [
        "# Calculate how many calls were made in total\n",
        "total_calls = sum(df['campaign'])\n",
        "print(total_calls)"
      ],
      "execution_count": 180,
      "outputs": [
        {
          "output_type": "stream",
          "text": [
            "105754.0\n"
          ],
          "name": "stdout"
        }
      ]
    },
    {
      "metadata": {
        "id": "cZNlHgbThmo3",
        "colab_type": "code",
        "outputId": "40ae343c-8eac-4bb1-ace2-d6c1594dfc6d",
        "colab": {
          "base_uri": "https://localhost:8080/",
          "height": 34
        }
      },
      "cell_type": "code",
      "source": [
        "# Calculate how many calls were made after the 6th call\n",
        "# Asuming that atleast 6 more call were made on average after the 6th call\n",
        "extra_calls = sum(df[df['campaign']>6]['campaign']) - 6*df[df['campaign']>6].shape[0]\n",
        "print(extra_calls)\n"
      ],
      "execution_count": 181,
      "outputs": [
        {
          "output_type": "stream",
          "text": [
            "12040.0\n"
          ],
          "name": "stdout"
        }
      ]
    },
    {
      "metadata": {
        "id": "zSjMTiYfhmo8",
        "colab_type": "code",
        "outputId": "ab62381d-222e-4480-f375-fa09efe5cfa8",
        "colab": {
          "base_uri": "https://localhost:8080/",
          "height": 34
        }
      },
      "cell_type": "code",
      "source": [
        "# Calculate reduction in marketing cost\n",
        "reduction=100*extra_calls/total_calls\n",
        "print(reduction)"
      ],
      "execution_count": 182,
      "outputs": [
        {
          "output_type": "stream",
          "text": [
            "11.3849121546\n"
          ],
          "name": "stdout"
        }
      ]
    },
    {
      "metadata": {
        "id": "WNJkJBzLhmpA",
        "colab_type": "code",
        "outputId": "360031e6-2016-4478-b2d8-dea91efb893d",
        "colab": {
          "base_uri": "https://localhost:8080/",
          "height": 34
        }
      },
      "cell_type": "code",
      "source": [
        "total_sales=float(df[df['y=yes']==1].shape[0])\n",
        "print(total_sales)"
      ],
      "execution_count": 183,
      "outputs": [
        {
          "output_type": "stream",
          "text": [
            "4640.0\n"
          ],
          "name": "stdout"
        }
      ]
    },
    {
      "metadata": {
        "id": "IvkcrllthmpD",
        "colab_type": "code",
        "outputId": "12f080a1-9ee9-48c5-ab31-5a84ae21f611",
        "colab": {
          "base_uri": "https://localhost:8080/",
          "height": 34
        }
      },
      "cell_type": "code",
      "source": [
        "less_costly_sales=float(df[(df['campaign'] <= 6) & (df['y=yes']==1)].shape[0])\n",
        "print(less_costly_sales)"
      ],
      "execution_count": 184,
      "outputs": [
        {
          "output_type": "stream",
          "text": [
            "4529.0\n"
          ],
          "name": "stdout"
        }
      ]
    },
    {
      "metadata": {
        "id": "9YZuMldphmpI",
        "colab_type": "code",
        "outputId": "d461e565-ba8a-471a-e91c-05ba755cbf0a",
        "colab": {
          "base_uri": "https://localhost:8080/",
          "height": 34
        }
      },
      "cell_type": "code",
      "source": [
        "sales_percent=100*less_costly_sales/total_sales\n",
        "print(sales_percent)"
      ],
      "execution_count": 185,
      "outputs": [
        {
          "output_type": "stream",
          "text": [
            "97.6077586207\n"
          ],
          "name": "stdout"
        }
      ]
    },
    {
      "metadata": {
        "id": "-uFxY67jhmpL",
        "colab_type": "text"
      },
      "cell_type": "markdown",
      "source": [
        "## Hence a reduction of about 11.38% in marketing costs can be achieved while maintaining 97.6% sales if any person is called a maximum of 6 times."
      ]
    }
  ]
}